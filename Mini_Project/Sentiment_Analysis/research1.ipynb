{
 "cells": [
  {
   "cell_type": "code",
   "execution_count": 2,
   "metadata": {},
   "outputs": [
    {
     "name": "stderr",
     "output_type": "stream",
     "text": [
      "/opt/anaconda3/envs/ollama-rag/lib/python3.11/site-packages/tqdm/auto.py:21: TqdmWarning: IProgress not found. Please update jupyter and ipywidgets. See https://ipywidgets.readthedocs.io/en/stable/user_install.html\n",
      "  from .autonotebook import tqdm as notebook_tqdm\n"
     ]
    }
   ],
   "source": [
    "import pandas as pd\n",
    "import torch\n",
    "from transformers import AutoModelForSequenceClassification, AutoTokenizer\n",
    "import spacy\n",
    "import numpy as np"
   ]
  },
  {
   "cell_type": "code",
   "execution_count": 3,
   "metadata": {},
   "outputs": [
    {
     "data": {
      "text/plain": [
       "RobertaForSequenceClassification(\n",
       "  (roberta): RobertaModel(\n",
       "    (embeddings): RobertaEmbeddings(\n",
       "      (word_embeddings): Embedding(50265, 1024, padding_idx=1)\n",
       "      (position_embeddings): Embedding(514, 1024, padding_idx=1)\n",
       "      (token_type_embeddings): Embedding(1, 1024)\n",
       "      (LayerNorm): LayerNorm((1024,), eps=1e-05, elementwise_affine=True)\n",
       "      (dropout): Dropout(p=0.1, inplace=False)\n",
       "    )\n",
       "    (encoder): RobertaEncoder(\n",
       "      (layer): ModuleList(\n",
       "        (0-23): 24 x RobertaLayer(\n",
       "          (attention): RobertaAttention(\n",
       "            (self): RobertaSdpaSelfAttention(\n",
       "              (query): Linear(in_features=1024, out_features=1024, bias=True)\n",
       "              (key): Linear(in_features=1024, out_features=1024, bias=True)\n",
       "              (value): Linear(in_features=1024, out_features=1024, bias=True)\n",
       "              (dropout): Dropout(p=0.1, inplace=False)\n",
       "            )\n",
       "            (output): RobertaSelfOutput(\n",
       "              (dense): Linear(in_features=1024, out_features=1024, bias=True)\n",
       "              (LayerNorm): LayerNorm((1024,), eps=1e-05, elementwise_affine=True)\n",
       "              (dropout): Dropout(p=0.1, inplace=False)\n",
       "            )\n",
       "          )\n",
       "          (intermediate): RobertaIntermediate(\n",
       "            (dense): Linear(in_features=1024, out_features=4096, bias=True)\n",
       "            (intermediate_act_fn): GELUActivation()\n",
       "          )\n",
       "          (output): RobertaOutput(\n",
       "            (dense): Linear(in_features=4096, out_features=1024, bias=True)\n",
       "            (LayerNorm): LayerNorm((1024,), eps=1e-05, elementwise_affine=True)\n",
       "            (dropout): Dropout(p=0.1, inplace=False)\n",
       "          )\n",
       "        )\n",
       "      )\n",
       "    )\n",
       "  )\n",
       "  (classifier): RobertaClassificationHead(\n",
       "    (dense): Linear(in_features=1024, out_features=1024, bias=True)\n",
       "    (dropout): Dropout(p=0.1, inplace=False)\n",
       "    (out_proj): Linear(in_features=1024, out_features=2, bias=True)\n",
       "  )\n",
       ")"
      ]
     },
     "execution_count": 3,
     "metadata": {},
     "output_type": "execute_result"
    }
   ],
   "source": [
    "# Load spaCy model for sentence segmentation\n",
    "nlp = spacy.load(\"en_core_web_sm\")\n",
    "\n",
    "# Load Emotion Analysis Model\n",
    "emotion_model_name = \"j-hartmann/emotion-english-distilroberta-base\"\n",
    "emotion_tokenizer = AutoTokenizer.from_pretrained(emotion_model_name)\n",
    "emotion_model = AutoModelForSequenceClassification.from_pretrained(emotion_model_name)\n",
    "emotion_model.eval()\n",
    "\n",
    "# Load Sentiment Analysis Model\n",
    "sentiment_model_name = \"siebert/sentiment-roberta-large-english\"\n",
    "sentiment_tokenizer = AutoTokenizer.from_pretrained(sentiment_model_name)\n",
    "sentiment_model = AutoModelForSequenceClassification.from_pretrained(sentiment_model_name)\n",
    "sentiment_model.eval()"
   ]
  },
  {
   "cell_type": "code",
   "execution_count": 23,
   "metadata": {},
   "outputs": [],
   "source": [
    "# Define labels\n",
    "EMOTION_LABELS = [\"anger\", \"disgust\", \"fear\", \"joy\", \"sadness\", \"surprise\", \"neutral\"]\n",
    "SENTIMENT_LABELS = [\"Negative\", \"Positive\"]"
   ]
  },
  {
   "cell_type": "code",
   "execution_count": 24,
   "metadata": {},
   "outputs": [],
   "source": [
    "def chunk_text(text):\n",
    "    \"\"\"Split text into meaningful sentence chunks.\"\"\"\n",
    "    doc = nlp(text)\n",
    "    return [sent.text.strip() for sent in doc.sents]"
   ]
  },
  {
   "cell_type": "code",
   "execution_count": 25,
   "metadata": {},
   "outputs": [],
   "source": [
    "def get_emotion_scores(text):\n",
    "    \"\"\"Get emotion distribution for a given text chunk.\"\"\"\n",
    "    if not text.strip():\n",
    "        return {label: 0.0 for label in EMOTION_LABELS}\n",
    "    \n",
    "    inputs = emotion_tokenizer(text, return_tensors=\"pt\", truncation=True, padding=True, max_length=512)\n",
    "    with torch.no_grad():\n",
    "        outputs = emotion_model(**inputs)\n",
    "    probs = torch.nn.functional.softmax(outputs.logits, dim=-1).squeeze().tolist()\n",
    "    \n",
    "    return {label: probs[i] for i, label in enumerate(EMOTION_LABELS)}"
   ]
  },
  {
   "cell_type": "code",
   "execution_count": 20,
   "metadata": {},
   "outputs": [
    {
     "data": {
      "text/plain": [
       "RobertaForSequenceClassification(\n",
       "  (roberta): RobertaModel(\n",
       "    (embeddings): RobertaEmbeddings(\n",
       "      (word_embeddings): Embedding(50265, 1024, padding_idx=1)\n",
       "      (position_embeddings): Embedding(514, 1024, padding_idx=1)\n",
       "      (token_type_embeddings): Embedding(1, 1024)\n",
       "      (LayerNorm): LayerNorm((1024,), eps=1e-05, elementwise_affine=True)\n",
       "      (dropout): Dropout(p=0.1, inplace=False)\n",
       "    )\n",
       "    (encoder): RobertaEncoder(\n",
       "      (layer): ModuleList(\n",
       "        (0-23): 24 x RobertaLayer(\n",
       "          (attention): RobertaAttention(\n",
       "            (self): RobertaSdpaSelfAttention(\n",
       "              (query): Linear(in_features=1024, out_features=1024, bias=True)\n",
       "              (key): Linear(in_features=1024, out_features=1024, bias=True)\n",
       "              (value): Linear(in_features=1024, out_features=1024, bias=True)\n",
       "              (dropout): Dropout(p=0.1, inplace=False)\n",
       "            )\n",
       "            (output): RobertaSelfOutput(\n",
       "              (dense): Linear(in_features=1024, out_features=1024, bias=True)\n",
       "              (LayerNorm): LayerNorm((1024,), eps=1e-05, elementwise_affine=True)\n",
       "              (dropout): Dropout(p=0.1, inplace=False)\n",
       "            )\n",
       "          )\n",
       "          (intermediate): RobertaIntermediate(\n",
       "            (dense): Linear(in_features=1024, out_features=4096, bias=True)\n",
       "            (intermediate_act_fn): GELUActivation()\n",
       "          )\n",
       "          (output): RobertaOutput(\n",
       "            (dense): Linear(in_features=4096, out_features=1024, bias=True)\n",
       "            (LayerNorm): LayerNorm((1024,), eps=1e-05, elementwise_affine=True)\n",
       "            (dropout): Dropout(p=0.1, inplace=False)\n",
       "          )\n",
       "        )\n",
       "      )\n",
       "    )\n",
       "  )\n",
       "  (classifier): RobertaClassificationHead(\n",
       "    (dense): Linear(in_features=1024, out_features=1024, bias=True)\n",
       "    (dropout): Dropout(p=0.1, inplace=False)\n",
       "    (out_proj): Linear(in_features=1024, out_features=2, bias=True)\n",
       "  )\n",
       ")"
      ]
     },
     "execution_count": 20,
     "metadata": {},
     "output_type": "execute_result"
    }
   ],
   "source": [
    "device = torch.device(\"cuda\" if torch.cuda.is_available() else \"cpu\")\n",
    "sentiment_model.to(device)"
   ]
  },
  {
   "cell_type": "code",
   "execution_count": 26,
   "metadata": {},
   "outputs": [],
   "source": [
    "def get_sentiment_scores(text):\n",
    "    if not isinstance(text, str) or text.strip() == \"\":\n",
    "        return {label: 0.0 for label in SENTIMENT_LABELS}\n",
    "\n",
    "    inputs = sentiment_tokenizer(text, return_tensors=\"pt\", truncation=True, padding=True)\n",
    "    with torch.no_grad():\n",
    "        outputs = sentiment_model(**inputs)\n",
    "\n",
    "    probs = torch.nn.functional.softmax(outputs.logits, dim=-1).squeeze().tolist()\n",
    "    return {label: probs[i] for i, label in enumerate(SENTIMENT_LABELS)}"
   ]
  },
  {
   "cell_type": "code",
   "execution_count": 30,
   "metadata": {},
   "outputs": [],
   "source": [
    "def process_diary_entry(entry):\n",
    "    \"\"\"Process a diary entry: chunk text, analyze sentiment & emotion.\"\"\"\n",
    "    chunks = chunk_text(entry)\n",
    "    processed_data = []\n",
    "    \n",
    "    for chunk in chunks:\n",
    "        emotion_scores = get_emotion_scores(chunk)\n",
    "        sentiment_scores = get_sentiment_scores(chunk)\n",
    "        \n",
    "        processed_data.append({\n",
    "            \"text\": chunk,\n",
    "            **emotion_scores,\n",
    "            **sentiment_scores\n",
    "        })\n",
    "    \n",
    "    return processed_data"
   ]
  },
  {
   "cell_type": "code",
   "execution_count": 31,
   "metadata": {},
   "outputs": [],
   "source": [
    "def process_csv(file_path, output_path):\n",
    "    \"\"\"Process diary CSV and save structured data.\"\"\"\n",
    "    df = pd.read_csv(file_path)\n",
    "    processed_entries = []\n",
    "    \n",
    "    for _, row in df.iterrows():\n",
    "        date = row[\"Date\"]\n",
    "        entry = row[\"Entry\"]\n",
    "        processed_chunks = process_diary_entry(entry)\n",
    "        \n",
    "        for chunk_data in processed_chunks:\n",
    "            chunk_data[\"date\"] = date\n",
    "            processed_entries.append(chunk_data)\n",
    "    \n",
    "    output_df = pd.DataFrame(processed_entries)\n",
    "    output_df.to_csv(output_path, index=False)\n",
    "    return output_df"
   ]
  },
  {
   "cell_type": "code",
   "execution_count": 32,
   "metadata": {},
   "outputs": [
    {
     "name": "stdout",
     "output_type": "stream",
     "text": [
      "Empty DataFrame\n",
      "Columns: [text, anger, disgust, fear, joy, sadness, surprise, neutral, Negative, Positive, date]\n",
      "Index: []\n"
     ]
    }
   ],
   "source": [
    "# Example Usage\n",
    "input_csv = \"/Users/pandhari/ai-diary-project/Data/diary_dataset.csv\"\n",
    "output_csv = \"diary_with_emotions_and_sentiments.csv\"\n",
    "result_df = process_csv(input_csv, output_csv)\n",
    "\n",
    "# Display sample output\n",
    "print(result_df.head(0))"
   ]
  },
  {
   "cell_type": "code",
   "execution_count": 33,
   "metadata": {},
   "outputs": [
    {
     "data": {
      "text/html": [
       "<div>\n",
       "<style scoped>\n",
       "    .dataframe tbody tr th:only-of-type {\n",
       "        vertical-align: middle;\n",
       "    }\n",
       "\n",
       "    .dataframe tbody tr th {\n",
       "        vertical-align: top;\n",
       "    }\n",
       "\n",
       "    .dataframe thead th {\n",
       "        text-align: right;\n",
       "    }\n",
       "</style>\n",
       "<table border=\"1\" class=\"dataframe\">\n",
       "  <thead>\n",
       "    <tr style=\"text-align: right;\">\n",
       "      <th></th>\n",
       "      <th>text</th>\n",
       "      <th>anger</th>\n",
       "      <th>disgust</th>\n",
       "      <th>fear</th>\n",
       "      <th>joy</th>\n",
       "      <th>sadness</th>\n",
       "      <th>surprise</th>\n",
       "      <th>neutral</th>\n",
       "      <th>Negative</th>\n",
       "      <th>Positive</th>\n",
       "      <th>date</th>\n",
       "    </tr>\n",
       "  </thead>\n",
       "  <tbody>\n",
       "    <tr>\n",
       "      <th>0</th>\n",
       "      <td>The day started like any other.</td>\n",
       "      <td>0.025992</td>\n",
       "      <td>0.017581</td>\n",
       "      <td>0.798574</td>\n",
       "      <td>0.017926</td>\n",
       "      <td>0.079598</td>\n",
       "      <td>0.008216</td>\n",
       "      <td>0.052114</td>\n",
       "      <td>0.002337</td>\n",
       "      <td>0.997663</td>\n",
       "      <td>2024-04-01 00:00:00</td>\n",
       "    </tr>\n",
       "    <tr>\n",
       "      <th>1</th>\n",
       "      <td>Woke up, had my usual coffee, and went about m...</td>\n",
       "      <td>0.011332</td>\n",
       "      <td>0.033233</td>\n",
       "      <td>0.008014</td>\n",
       "      <td>0.133408</td>\n",
       "      <td>0.771033</td>\n",
       "      <td>0.025920</td>\n",
       "      <td>0.017060</td>\n",
       "      <td>0.001774</td>\n",
       "      <td>0.998226</td>\n",
       "      <td>2024-04-01 00:00:00</td>\n",
       "    </tr>\n",
       "    <tr>\n",
       "      <th>2</th>\n",
       "      <td>Work was neither too stressful nor too excitin...</td>\n",
       "      <td>0.012116</td>\n",
       "      <td>0.005369</td>\n",
       "      <td>0.018797</td>\n",
       "      <td>0.485094</td>\n",
       "      <td>0.152819</td>\n",
       "      <td>0.223532</td>\n",
       "      <td>0.102273</td>\n",
       "      <td>0.003375</td>\n",
       "      <td>0.996625</td>\n",
       "      <td>2024-04-01 00:00:00</td>\n",
       "    </tr>\n",
       "    <tr>\n",
       "      <th>3</th>\n",
       "      <td>Even the evening felt routine, with dinner, a ...</td>\n",
       "      <td>0.004880</td>\n",
       "      <td>0.037629</td>\n",
       "      <td>0.002696</td>\n",
       "      <td>0.143821</td>\n",
       "      <td>0.780782</td>\n",
       "      <td>0.025199</td>\n",
       "      <td>0.004993</td>\n",
       "      <td>0.998072</td>\n",
       "      <td>0.001928</td>\n",
       "      <td>2024-04-01 00:00:00</td>\n",
       "    </tr>\n",
       "    <tr>\n",
       "      <th>4</th>\n",
       "      <td>Met an old friend unexpectedly at a cafe.</td>\n",
       "      <td>0.008115</td>\n",
       "      <td>0.005831</td>\n",
       "      <td>0.079877</td>\n",
       "      <td>0.496256</td>\n",
       "      <td>0.006157</td>\n",
       "      <td>0.006609</td>\n",
       "      <td>0.397155</td>\n",
       "      <td>0.001199</td>\n",
       "      <td>0.998801</td>\n",
       "      <td>2024-04-02 00:00:00</td>\n",
       "    </tr>\n",
       "  </tbody>\n",
       "</table>\n",
       "</div>"
      ],
      "text/plain": [
       "                                                text     anger   disgust  \\\n",
       "0                    The day started like any other.  0.025992  0.017581   \n",
       "1  Woke up, had my usual coffee, and went about m...  0.011332  0.033233   \n",
       "2  Work was neither too stressful nor too excitin...  0.012116  0.005369   \n",
       "3  Even the evening felt routine, with dinner, a ...  0.004880  0.037629   \n",
       "4          Met an old friend unexpectedly at a cafe.  0.008115  0.005831   \n",
       "\n",
       "       fear       joy   sadness  surprise   neutral  Negative  Positive  \\\n",
       "0  0.798574  0.017926  0.079598  0.008216  0.052114  0.002337  0.997663   \n",
       "1  0.008014  0.133408  0.771033  0.025920  0.017060  0.001774  0.998226   \n",
       "2  0.018797  0.485094  0.152819  0.223532  0.102273  0.003375  0.996625   \n",
       "3  0.002696  0.143821  0.780782  0.025199  0.004993  0.998072  0.001928   \n",
       "4  0.079877  0.496256  0.006157  0.006609  0.397155  0.001199  0.998801   \n",
       "\n",
       "                  date  \n",
       "0  2024-04-01 00:00:00  \n",
       "1  2024-04-01 00:00:00  \n",
       "2  2024-04-01 00:00:00  \n",
       "3  2024-04-01 00:00:00  \n",
       "4  2024-04-02 00:00:00  "
      ]
     },
     "execution_count": 33,
     "metadata": {},
     "output_type": "execute_result"
    }
   ],
   "source": [
    "result_df.head(5)"
   ]
  },
  {
   "cell_type": "code",
   "execution_count": null,
   "metadata": {},
   "outputs": [],
   "source": []
  }
 ],
 "metadata": {
  "kernelspec": {
   "display_name": "ollama-rag",
   "language": "python",
   "name": "python3"
  },
  "language_info": {
   "codemirror_mode": {
    "name": "ipython",
    "version": 3
   },
   "file_extension": ".py",
   "mimetype": "text/x-python",
   "name": "python",
   "nbconvert_exporter": "python",
   "pygments_lexer": "ipython3",
   "version": "3.11.11"
  }
 },
 "nbformat": 4,
 "nbformat_minor": 2
}
